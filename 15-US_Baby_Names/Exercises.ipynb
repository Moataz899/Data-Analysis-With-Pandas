{
 "cells": [
  {
   "cell_type": "markdown",
   "metadata": {},
   "source": [
    "# US - Baby Names"
   ]
  },
  {
   "cell_type": "markdown",
   "metadata": {},
   "source": [
    "### Introduction:\n",
    "\n",
    "We are going to use a subset of [US Baby Names](https://www.kaggle.com/kaggle/us-baby-names) from Kaggle.  \n",
    "In the file it will be names from 2004 until 2014\n",
    "\n",
    "\n",
    "### Step 1. Import the necessary libraries"
   ]
  },
  {
   "cell_type": "code",
   "execution_count": 1,
   "metadata": {
    "collapsed": false
   },
   "outputs": [],
   "source": [
    "import numpy as np\n",
    "import pandas as pd\n",
    "import warnings\n",
    "\n",
    "warnings.filterwarnings('ignore')"
   ]
  },
  {
   "cell_type": "markdown",
   "metadata": {},
   "source": [
    "### Step 2. Import the dataset from this [address](https://raw.githubusercontent.com/guipsamora/pandas_exercises/master/06_Stats/US_Baby_Names/US_Baby_Names_right.csv). "
   ]
  },
  {
   "cell_type": "markdown",
   "metadata": {},
   "source": [
    "### Step 3. Assign it to a variable called baby_names."
   ]
  },
  {
   "cell_type": "code",
   "execution_count": 7,
   "metadata": {
    "collapsed": false
   },
   "outputs": [],
   "source": [
    "baby_names = pd.read_csv('https://raw.githubusercontent.com/guipsamora/pandas_exercises/master/06_Stats/US_Baby_Names/US_Baby_Names_right.csv' , sep = ',')"
   ]
  },
  {
   "cell_type": "code",
   "execution_count": 8,
   "metadata": {},
   "outputs": [
    {
     "data": {
      "application/vnd.microsoft.datawrangler.viewer.v0+json": {
       "columns": [
        {
         "name": "index",
         "rawType": "int64",
         "type": "integer"
        },
        {
         "name": "Unnamed: 0",
         "rawType": "int64",
         "type": "integer"
        },
        {
         "name": "Id",
         "rawType": "int64",
         "type": "integer"
        },
        {
         "name": "Name",
         "rawType": "object",
         "type": "string"
        },
        {
         "name": "Year",
         "rawType": "int64",
         "type": "integer"
        },
        {
         "name": "Gender",
         "rawType": "object",
         "type": "string"
        },
        {
         "name": "State",
         "rawType": "object",
         "type": "string"
        },
        {
         "name": "Count",
         "rawType": "int64",
         "type": "integer"
        }
       ],
       "conversionMethod": "pd.DataFrame",
       "ref": "ba23b14b-2075-4fe2-aebd-6c9ddd273d2d",
       "rows": [
        [
         "0",
         "11349",
         "11350",
         "Emma",
         "2004",
         "F",
         "AK",
         "62"
        ],
        [
         "1",
         "11350",
         "11351",
         "Madison",
         "2004",
         "F",
         "AK",
         "48"
        ],
        [
         "2",
         "11351",
         "11352",
         "Hannah",
         "2004",
         "F",
         "AK",
         "46"
        ],
        [
         "3",
         "11352",
         "11353",
         "Grace",
         "2004",
         "F",
         "AK",
         "44"
        ],
        [
         "4",
         "11353",
         "11354",
         "Emily",
         "2004",
         "F",
         "AK",
         "41"
        ],
        [
         "5",
         "11354",
         "11355",
         "Abigail",
         "2004",
         "F",
         "AK",
         "37"
        ],
        [
         "6",
         "11355",
         "11356",
         "Olivia",
         "2004",
         "F",
         "AK",
         "33"
        ],
        [
         "7",
         "11356",
         "11357",
         "Isabella",
         "2004",
         "F",
         "AK",
         "30"
        ],
        [
         "8",
         "11357",
         "11358",
         "Alyssa",
         "2004",
         "F",
         "AK",
         "29"
        ],
        [
         "9",
         "11358",
         "11359",
         "Sophia",
         "2004",
         "F",
         "AK",
         "28"
        ],
        [
         "10",
         "11359",
         "11360",
         "Alexis",
         "2004",
         "F",
         "AK",
         "27"
        ],
        [
         "11",
         "11360",
         "11361",
         "Elizabeth",
         "2004",
         "F",
         "AK",
         "27"
        ],
        [
         "12",
         "11361",
         "11362",
         "Hailey",
         "2004",
         "F",
         "AK",
         "27"
        ],
        [
         "13",
         "11362",
         "11363",
         "Anna",
         "2004",
         "F",
         "AK",
         "26"
        ],
        [
         "14",
         "11363",
         "11364",
         "Natalie",
         "2004",
         "F",
         "AK",
         "25"
        ],
        [
         "15",
         "11364",
         "11365",
         "Sarah",
         "2004",
         "F",
         "AK",
         "25"
        ],
        [
         "16",
         "11365",
         "11366",
         "Sydney",
         "2004",
         "F",
         "AK",
         "25"
        ],
        [
         "17",
         "11366",
         "11367",
         "Ava",
         "2004",
         "F",
         "AK",
         "23"
        ],
        [
         "18",
         "11367",
         "11368",
         "Trinity",
         "2004",
         "F",
         "AK",
         "22"
        ],
        [
         "19",
         "11368",
         "11369",
         "Haley",
         "2004",
         "F",
         "AK",
         "21"
        ],
        [
         "20",
         "11369",
         "11370",
         "Kaylee",
         "2004",
         "F",
         "AK",
         "21"
        ],
        [
         "21",
         "11370",
         "11371",
         "Taylor",
         "2004",
         "F",
         "AK",
         "21"
        ],
        [
         "22",
         "11371",
         "11372",
         "Chloe",
         "2004",
         "F",
         "AK",
         "20"
        ],
        [
         "23",
         "11372",
         "11373",
         "Ella",
         "2004",
         "F",
         "AK",
         "20"
        ],
        [
         "24",
         "11373",
         "11374",
         "Mackenzie",
         "2004",
         "F",
         "AK",
         "20"
        ],
        [
         "25",
         "11374",
         "11375",
         "Sierra",
         "2004",
         "F",
         "AK",
         "19"
        ],
        [
         "26",
         "11375",
         "11376",
         "Kayla",
         "2004",
         "F",
         "AK",
         "18"
        ],
        [
         "27",
         "11376",
         "11377",
         "Samantha",
         "2004",
         "F",
         "AK",
         "18"
        ],
        [
         "28",
         "11377",
         "11378",
         "Zoe",
         "2004",
         "F",
         "AK",
         "18"
        ],
        [
         "29",
         "11378",
         "11379",
         "Jessica",
         "2004",
         "F",
         "AK",
         "17"
        ],
        [
         "30",
         "11379",
         "11380",
         "Leah",
         "2004",
         "F",
         "AK",
         "17"
        ],
        [
         "31",
         "11380",
         "11381",
         "Lily",
         "2004",
         "F",
         "AK",
         "17"
        ],
        [
         "32",
         "11381",
         "11382",
         "Rachel",
         "2004",
         "F",
         "AK",
         "17"
        ],
        [
         "33",
         "11382",
         "11383",
         "Riley",
         "2004",
         "F",
         "AK",
         "17"
        ],
        [
         "34",
         "11383",
         "11384",
         "Savannah",
         "2004",
         "F",
         "AK",
         "17"
        ],
        [
         "35",
         "11384",
         "11385",
         "Victoria",
         "2004",
         "F",
         "AK",
         "17"
        ],
        [
         "36",
         "11385",
         "11386",
         "Ashley",
         "2004",
         "F",
         "AK",
         "16"
        ],
        [
         "37",
         "11386",
         "11387",
         "Cadence",
         "2004",
         "F",
         "AK",
         "16"
        ],
        [
         "38",
         "11387",
         "11388",
         "Megan",
         "2004",
         "F",
         "AK",
         "16"
        ],
        [
         "39",
         "11388",
         "11389",
         "Aurora",
         "2004",
         "F",
         "AK",
         "15"
        ],
        [
         "40",
         "11389",
         "11390",
         "Jasmine",
         "2004",
         "F",
         "AK",
         "15"
        ],
        [
         "41",
         "11390",
         "11391",
         "Jordan",
         "2004",
         "F",
         "AK",
         "15"
        ],
        [
         "42",
         "11391",
         "11392",
         "Julia",
         "2004",
         "F",
         "AK",
         "15"
        ],
        [
         "43",
         "11392",
         "11393",
         "Kylie",
         "2004",
         "F",
         "AK",
         "15"
        ],
        [
         "44",
         "11393",
         "11394",
         "Angel",
         "2004",
         "F",
         "AK",
         "14"
        ],
        [
         "45",
         "11394",
         "11395",
         "Jade",
         "2004",
         "F",
         "AK",
         "14"
        ],
        [
         "46",
         "11395",
         "11396",
         "Nicole",
         "2004",
         "F",
         "AK",
         "14"
        ],
        [
         "47",
         "11396",
         "11397",
         "Rebecca",
         "2004",
         "F",
         "AK",
         "14"
        ],
        [
         "48",
         "11397",
         "11398",
         "Alexandra",
         "2004",
         "F",
         "AK",
         "13"
        ],
        [
         "49",
         "11398",
         "11399",
         "Allison",
         "2004",
         "F",
         "AK",
         "13"
        ]
       ],
       "shape": {
        "columns": 7,
        "rows": 1016395
       }
      },
      "text/html": [
       "<div>\n",
       "<style scoped>\n",
       "    .dataframe tbody tr th:only-of-type {\n",
       "        vertical-align: middle;\n",
       "    }\n",
       "\n",
       "    .dataframe tbody tr th {\n",
       "        vertical-align: top;\n",
       "    }\n",
       "\n",
       "    .dataframe thead th {\n",
       "        text-align: right;\n",
       "    }\n",
       "</style>\n",
       "<table border=\"1\" class=\"dataframe\">\n",
       "  <thead>\n",
       "    <tr style=\"text-align: right;\">\n",
       "      <th></th>\n",
       "      <th>Unnamed: 0</th>\n",
       "      <th>Id</th>\n",
       "      <th>Name</th>\n",
       "      <th>Year</th>\n",
       "      <th>Gender</th>\n",
       "      <th>State</th>\n",
       "      <th>Count</th>\n",
       "    </tr>\n",
       "  </thead>\n",
       "  <tbody>\n",
       "    <tr>\n",
       "      <th>0</th>\n",
       "      <td>11349</td>\n",
       "      <td>11350</td>\n",
       "      <td>Emma</td>\n",
       "      <td>2004</td>\n",
       "      <td>F</td>\n",
       "      <td>AK</td>\n",
       "      <td>62</td>\n",
       "    </tr>\n",
       "    <tr>\n",
       "      <th>1</th>\n",
       "      <td>11350</td>\n",
       "      <td>11351</td>\n",
       "      <td>Madison</td>\n",
       "      <td>2004</td>\n",
       "      <td>F</td>\n",
       "      <td>AK</td>\n",
       "      <td>48</td>\n",
       "    </tr>\n",
       "    <tr>\n",
       "      <th>2</th>\n",
       "      <td>11351</td>\n",
       "      <td>11352</td>\n",
       "      <td>Hannah</td>\n",
       "      <td>2004</td>\n",
       "      <td>F</td>\n",
       "      <td>AK</td>\n",
       "      <td>46</td>\n",
       "    </tr>\n",
       "    <tr>\n",
       "      <th>3</th>\n",
       "      <td>11352</td>\n",
       "      <td>11353</td>\n",
       "      <td>Grace</td>\n",
       "      <td>2004</td>\n",
       "      <td>F</td>\n",
       "      <td>AK</td>\n",
       "      <td>44</td>\n",
       "    </tr>\n",
       "    <tr>\n",
       "      <th>4</th>\n",
       "      <td>11353</td>\n",
       "      <td>11354</td>\n",
       "      <td>Emily</td>\n",
       "      <td>2004</td>\n",
       "      <td>F</td>\n",
       "      <td>AK</td>\n",
       "      <td>41</td>\n",
       "    </tr>\n",
       "    <tr>\n",
       "      <th>...</th>\n",
       "      <td>...</td>\n",
       "      <td>...</td>\n",
       "      <td>...</td>\n",
       "      <td>...</td>\n",
       "      <td>...</td>\n",
       "      <td>...</td>\n",
       "      <td>...</td>\n",
       "    </tr>\n",
       "    <tr>\n",
       "      <th>1016390</th>\n",
       "      <td>5647421</td>\n",
       "      <td>5647422</td>\n",
       "      <td>Seth</td>\n",
       "      <td>2014</td>\n",
       "      <td>M</td>\n",
       "      <td>WY</td>\n",
       "      <td>5</td>\n",
       "    </tr>\n",
       "    <tr>\n",
       "      <th>1016391</th>\n",
       "      <td>5647422</td>\n",
       "      <td>5647423</td>\n",
       "      <td>Spencer</td>\n",
       "      <td>2014</td>\n",
       "      <td>M</td>\n",
       "      <td>WY</td>\n",
       "      <td>5</td>\n",
       "    </tr>\n",
       "    <tr>\n",
       "      <th>1016392</th>\n",
       "      <td>5647423</td>\n",
       "      <td>5647424</td>\n",
       "      <td>Tyce</td>\n",
       "      <td>2014</td>\n",
       "      <td>M</td>\n",
       "      <td>WY</td>\n",
       "      <td>5</td>\n",
       "    </tr>\n",
       "    <tr>\n",
       "      <th>1016393</th>\n",
       "      <td>5647424</td>\n",
       "      <td>5647425</td>\n",
       "      <td>Victor</td>\n",
       "      <td>2014</td>\n",
       "      <td>M</td>\n",
       "      <td>WY</td>\n",
       "      <td>5</td>\n",
       "    </tr>\n",
       "    <tr>\n",
       "      <th>1016394</th>\n",
       "      <td>5647425</td>\n",
       "      <td>5647426</td>\n",
       "      <td>Waylon</td>\n",
       "      <td>2014</td>\n",
       "      <td>M</td>\n",
       "      <td>WY</td>\n",
       "      <td>5</td>\n",
       "    </tr>\n",
       "  </tbody>\n",
       "</table>\n",
       "<p>1016395 rows × 7 columns</p>\n",
       "</div>"
      ],
      "text/plain": [
       "         Unnamed: 0       Id     Name  Year Gender State  Count\n",
       "0             11349    11350     Emma  2004      F    AK     62\n",
       "1             11350    11351  Madison  2004      F    AK     48\n",
       "2             11351    11352   Hannah  2004      F    AK     46\n",
       "3             11352    11353    Grace  2004      F    AK     44\n",
       "4             11353    11354    Emily  2004      F    AK     41\n",
       "...             ...      ...      ...   ...    ...   ...    ...\n",
       "1016390     5647421  5647422     Seth  2014      M    WY      5\n",
       "1016391     5647422  5647423  Spencer  2014      M    WY      5\n",
       "1016392     5647423  5647424     Tyce  2014      M    WY      5\n",
       "1016393     5647424  5647425   Victor  2014      M    WY      5\n",
       "1016394     5647425  5647426   Waylon  2014      M    WY      5\n",
       "\n",
       "[1016395 rows x 7 columns]"
      ]
     },
     "execution_count": 8,
     "metadata": {},
     "output_type": "execute_result"
    }
   ],
   "source": [
    "baby_names"
   ]
  },
  {
   "cell_type": "markdown",
   "metadata": {},
   "source": [
    "### Step 4. See the first 10 entries"
   ]
  },
  {
   "cell_type": "code",
   "execution_count": 9,
   "metadata": {
    "collapsed": false
   },
   "outputs": [
    {
     "data": {
      "application/vnd.microsoft.datawrangler.viewer.v0+json": {
       "columns": [
        {
         "name": "index",
         "rawType": "int64",
         "type": "integer"
        },
        {
         "name": "Unnamed: 0",
         "rawType": "int64",
         "type": "integer"
        },
        {
         "name": "Id",
         "rawType": "int64",
         "type": "integer"
        },
        {
         "name": "Name",
         "rawType": "object",
         "type": "string"
        },
        {
         "name": "Year",
         "rawType": "int64",
         "type": "integer"
        },
        {
         "name": "Gender",
         "rawType": "object",
         "type": "string"
        },
        {
         "name": "State",
         "rawType": "object",
         "type": "string"
        },
        {
         "name": "Count",
         "rawType": "int64",
         "type": "integer"
        }
       ],
       "conversionMethod": "pd.DataFrame",
       "ref": "6cce59ed-a4ca-4fdf-bd9e-f6b7956167cf",
       "rows": [
        [
         "0",
         "11349",
         "11350",
         "Emma",
         "2004",
         "F",
         "AK",
         "62"
        ],
        [
         "1",
         "11350",
         "11351",
         "Madison",
         "2004",
         "F",
         "AK",
         "48"
        ],
        [
         "2",
         "11351",
         "11352",
         "Hannah",
         "2004",
         "F",
         "AK",
         "46"
        ],
        [
         "3",
         "11352",
         "11353",
         "Grace",
         "2004",
         "F",
         "AK",
         "44"
        ],
        [
         "4",
         "11353",
         "11354",
         "Emily",
         "2004",
         "F",
         "AK",
         "41"
        ],
        [
         "5",
         "11354",
         "11355",
         "Abigail",
         "2004",
         "F",
         "AK",
         "37"
        ],
        [
         "6",
         "11355",
         "11356",
         "Olivia",
         "2004",
         "F",
         "AK",
         "33"
        ],
        [
         "7",
         "11356",
         "11357",
         "Isabella",
         "2004",
         "F",
         "AK",
         "30"
        ],
        [
         "8",
         "11357",
         "11358",
         "Alyssa",
         "2004",
         "F",
         "AK",
         "29"
        ],
        [
         "9",
         "11358",
         "11359",
         "Sophia",
         "2004",
         "F",
         "AK",
         "28"
        ]
       ],
       "shape": {
        "columns": 7,
        "rows": 10
       }
      },
      "text/html": [
       "<div>\n",
       "<style scoped>\n",
       "    .dataframe tbody tr th:only-of-type {\n",
       "        vertical-align: middle;\n",
       "    }\n",
       "\n",
       "    .dataframe tbody tr th {\n",
       "        vertical-align: top;\n",
       "    }\n",
       "\n",
       "    .dataframe thead th {\n",
       "        text-align: right;\n",
       "    }\n",
       "</style>\n",
       "<table border=\"1\" class=\"dataframe\">\n",
       "  <thead>\n",
       "    <tr style=\"text-align: right;\">\n",
       "      <th></th>\n",
       "      <th>Unnamed: 0</th>\n",
       "      <th>Id</th>\n",
       "      <th>Name</th>\n",
       "      <th>Year</th>\n",
       "      <th>Gender</th>\n",
       "      <th>State</th>\n",
       "      <th>Count</th>\n",
       "    </tr>\n",
       "  </thead>\n",
       "  <tbody>\n",
       "    <tr>\n",
       "      <th>0</th>\n",
       "      <td>11349</td>\n",
       "      <td>11350</td>\n",
       "      <td>Emma</td>\n",
       "      <td>2004</td>\n",
       "      <td>F</td>\n",
       "      <td>AK</td>\n",
       "      <td>62</td>\n",
       "    </tr>\n",
       "    <tr>\n",
       "      <th>1</th>\n",
       "      <td>11350</td>\n",
       "      <td>11351</td>\n",
       "      <td>Madison</td>\n",
       "      <td>2004</td>\n",
       "      <td>F</td>\n",
       "      <td>AK</td>\n",
       "      <td>48</td>\n",
       "    </tr>\n",
       "    <tr>\n",
       "      <th>2</th>\n",
       "      <td>11351</td>\n",
       "      <td>11352</td>\n",
       "      <td>Hannah</td>\n",
       "      <td>2004</td>\n",
       "      <td>F</td>\n",
       "      <td>AK</td>\n",
       "      <td>46</td>\n",
       "    </tr>\n",
       "    <tr>\n",
       "      <th>3</th>\n",
       "      <td>11352</td>\n",
       "      <td>11353</td>\n",
       "      <td>Grace</td>\n",
       "      <td>2004</td>\n",
       "      <td>F</td>\n",
       "      <td>AK</td>\n",
       "      <td>44</td>\n",
       "    </tr>\n",
       "    <tr>\n",
       "      <th>4</th>\n",
       "      <td>11353</td>\n",
       "      <td>11354</td>\n",
       "      <td>Emily</td>\n",
       "      <td>2004</td>\n",
       "      <td>F</td>\n",
       "      <td>AK</td>\n",
       "      <td>41</td>\n",
       "    </tr>\n",
       "    <tr>\n",
       "      <th>5</th>\n",
       "      <td>11354</td>\n",
       "      <td>11355</td>\n",
       "      <td>Abigail</td>\n",
       "      <td>2004</td>\n",
       "      <td>F</td>\n",
       "      <td>AK</td>\n",
       "      <td>37</td>\n",
       "    </tr>\n",
       "    <tr>\n",
       "      <th>6</th>\n",
       "      <td>11355</td>\n",
       "      <td>11356</td>\n",
       "      <td>Olivia</td>\n",
       "      <td>2004</td>\n",
       "      <td>F</td>\n",
       "      <td>AK</td>\n",
       "      <td>33</td>\n",
       "    </tr>\n",
       "    <tr>\n",
       "      <th>7</th>\n",
       "      <td>11356</td>\n",
       "      <td>11357</td>\n",
       "      <td>Isabella</td>\n",
       "      <td>2004</td>\n",
       "      <td>F</td>\n",
       "      <td>AK</td>\n",
       "      <td>30</td>\n",
       "    </tr>\n",
       "    <tr>\n",
       "      <th>8</th>\n",
       "      <td>11357</td>\n",
       "      <td>11358</td>\n",
       "      <td>Alyssa</td>\n",
       "      <td>2004</td>\n",
       "      <td>F</td>\n",
       "      <td>AK</td>\n",
       "      <td>29</td>\n",
       "    </tr>\n",
       "    <tr>\n",
       "      <th>9</th>\n",
       "      <td>11358</td>\n",
       "      <td>11359</td>\n",
       "      <td>Sophia</td>\n",
       "      <td>2004</td>\n",
       "      <td>F</td>\n",
       "      <td>AK</td>\n",
       "      <td>28</td>\n",
       "    </tr>\n",
       "  </tbody>\n",
       "</table>\n",
       "</div>"
      ],
      "text/plain": [
       "   Unnamed: 0     Id      Name  Year Gender State  Count\n",
       "0       11349  11350      Emma  2004      F    AK     62\n",
       "1       11350  11351   Madison  2004      F    AK     48\n",
       "2       11351  11352    Hannah  2004      F    AK     46\n",
       "3       11352  11353     Grace  2004      F    AK     44\n",
       "4       11353  11354     Emily  2004      F    AK     41\n",
       "5       11354  11355   Abigail  2004      F    AK     37\n",
       "6       11355  11356    Olivia  2004      F    AK     33\n",
       "7       11356  11357  Isabella  2004      F    AK     30\n",
       "8       11357  11358    Alyssa  2004      F    AK     29\n",
       "9       11358  11359    Sophia  2004      F    AK     28"
      ]
     },
     "execution_count": 9,
     "metadata": {},
     "output_type": "execute_result"
    }
   ],
   "source": [
    "\n",
    "baby_names.head(10)"
   ]
  },
  {
   "cell_type": "markdown",
   "metadata": {},
   "source": [
    "### Step 5. Delete the column 'Unnamed: 0' and 'Id'"
   ]
  },
  {
   "cell_type": "code",
   "execution_count": 10,
   "metadata": {
    "collapsed": false
   },
   "outputs": [],
   "source": [
    "baby_names.drop([\"Unnamed: 0\" , \"Id\" ], axis='columns' , inplace=True) \n"
   ]
  },
  {
   "cell_type": "code",
   "execution_count": 11,
   "metadata": {},
   "outputs": [
    {
     "data": {
      "application/vnd.microsoft.datawrangler.viewer.v0+json": {
       "columns": [
        {
         "name": "index",
         "rawType": "int64",
         "type": "integer"
        },
        {
         "name": "Name",
         "rawType": "object",
         "type": "string"
        },
        {
         "name": "Year",
         "rawType": "int64",
         "type": "integer"
        },
        {
         "name": "Gender",
         "rawType": "object",
         "type": "string"
        },
        {
         "name": "State",
         "rawType": "object",
         "type": "string"
        },
        {
         "name": "Count",
         "rawType": "int64",
         "type": "integer"
        }
       ],
       "conversionMethod": "pd.DataFrame",
       "ref": "c4d552da-5972-4732-9ff9-30f3e62072f5",
       "rows": [
        [
         "0",
         "Emma",
         "2004",
         "F",
         "AK",
         "62"
        ],
        [
         "1",
         "Madison",
         "2004",
         "F",
         "AK",
         "48"
        ],
        [
         "2",
         "Hannah",
         "2004",
         "F",
         "AK",
         "46"
        ],
        [
         "3",
         "Grace",
         "2004",
         "F",
         "AK",
         "44"
        ],
        [
         "4",
         "Emily",
         "2004",
         "F",
         "AK",
         "41"
        ],
        [
         "5",
         "Abigail",
         "2004",
         "F",
         "AK",
         "37"
        ],
        [
         "6",
         "Olivia",
         "2004",
         "F",
         "AK",
         "33"
        ],
        [
         "7",
         "Isabella",
         "2004",
         "F",
         "AK",
         "30"
        ],
        [
         "8",
         "Alyssa",
         "2004",
         "F",
         "AK",
         "29"
        ],
        [
         "9",
         "Sophia",
         "2004",
         "F",
         "AK",
         "28"
        ],
        [
         "10",
         "Alexis",
         "2004",
         "F",
         "AK",
         "27"
        ],
        [
         "11",
         "Elizabeth",
         "2004",
         "F",
         "AK",
         "27"
        ],
        [
         "12",
         "Hailey",
         "2004",
         "F",
         "AK",
         "27"
        ],
        [
         "13",
         "Anna",
         "2004",
         "F",
         "AK",
         "26"
        ],
        [
         "14",
         "Natalie",
         "2004",
         "F",
         "AK",
         "25"
        ],
        [
         "15",
         "Sarah",
         "2004",
         "F",
         "AK",
         "25"
        ],
        [
         "16",
         "Sydney",
         "2004",
         "F",
         "AK",
         "25"
        ],
        [
         "17",
         "Ava",
         "2004",
         "F",
         "AK",
         "23"
        ],
        [
         "18",
         "Trinity",
         "2004",
         "F",
         "AK",
         "22"
        ],
        [
         "19",
         "Haley",
         "2004",
         "F",
         "AK",
         "21"
        ],
        [
         "20",
         "Kaylee",
         "2004",
         "F",
         "AK",
         "21"
        ],
        [
         "21",
         "Taylor",
         "2004",
         "F",
         "AK",
         "21"
        ],
        [
         "22",
         "Chloe",
         "2004",
         "F",
         "AK",
         "20"
        ],
        [
         "23",
         "Ella",
         "2004",
         "F",
         "AK",
         "20"
        ],
        [
         "24",
         "Mackenzie",
         "2004",
         "F",
         "AK",
         "20"
        ],
        [
         "25",
         "Sierra",
         "2004",
         "F",
         "AK",
         "19"
        ],
        [
         "26",
         "Kayla",
         "2004",
         "F",
         "AK",
         "18"
        ],
        [
         "27",
         "Samantha",
         "2004",
         "F",
         "AK",
         "18"
        ],
        [
         "28",
         "Zoe",
         "2004",
         "F",
         "AK",
         "18"
        ],
        [
         "29",
         "Jessica",
         "2004",
         "F",
         "AK",
         "17"
        ],
        [
         "30",
         "Leah",
         "2004",
         "F",
         "AK",
         "17"
        ],
        [
         "31",
         "Lily",
         "2004",
         "F",
         "AK",
         "17"
        ],
        [
         "32",
         "Rachel",
         "2004",
         "F",
         "AK",
         "17"
        ],
        [
         "33",
         "Riley",
         "2004",
         "F",
         "AK",
         "17"
        ],
        [
         "34",
         "Savannah",
         "2004",
         "F",
         "AK",
         "17"
        ],
        [
         "35",
         "Victoria",
         "2004",
         "F",
         "AK",
         "17"
        ],
        [
         "36",
         "Ashley",
         "2004",
         "F",
         "AK",
         "16"
        ],
        [
         "37",
         "Cadence",
         "2004",
         "F",
         "AK",
         "16"
        ],
        [
         "38",
         "Megan",
         "2004",
         "F",
         "AK",
         "16"
        ],
        [
         "39",
         "Aurora",
         "2004",
         "F",
         "AK",
         "15"
        ],
        [
         "40",
         "Jasmine",
         "2004",
         "F",
         "AK",
         "15"
        ],
        [
         "41",
         "Jordan",
         "2004",
         "F",
         "AK",
         "15"
        ],
        [
         "42",
         "Julia",
         "2004",
         "F",
         "AK",
         "15"
        ],
        [
         "43",
         "Kylie",
         "2004",
         "F",
         "AK",
         "15"
        ],
        [
         "44",
         "Angel",
         "2004",
         "F",
         "AK",
         "14"
        ],
        [
         "45",
         "Jade",
         "2004",
         "F",
         "AK",
         "14"
        ],
        [
         "46",
         "Nicole",
         "2004",
         "F",
         "AK",
         "14"
        ],
        [
         "47",
         "Rebecca",
         "2004",
         "F",
         "AK",
         "14"
        ],
        [
         "48",
         "Alexandra",
         "2004",
         "F",
         "AK",
         "13"
        ],
        [
         "49",
         "Allison",
         "2004",
         "F",
         "AK",
         "13"
        ]
       ],
       "shape": {
        "columns": 5,
        "rows": 1016395
       }
      },
      "text/html": [
       "<div>\n",
       "<style scoped>\n",
       "    .dataframe tbody tr th:only-of-type {\n",
       "        vertical-align: middle;\n",
       "    }\n",
       "\n",
       "    .dataframe tbody tr th {\n",
       "        vertical-align: top;\n",
       "    }\n",
       "\n",
       "    .dataframe thead th {\n",
       "        text-align: right;\n",
       "    }\n",
       "</style>\n",
       "<table border=\"1\" class=\"dataframe\">\n",
       "  <thead>\n",
       "    <tr style=\"text-align: right;\">\n",
       "      <th></th>\n",
       "      <th>Name</th>\n",
       "      <th>Year</th>\n",
       "      <th>Gender</th>\n",
       "      <th>State</th>\n",
       "      <th>Count</th>\n",
       "    </tr>\n",
       "  </thead>\n",
       "  <tbody>\n",
       "    <tr>\n",
       "      <th>0</th>\n",
       "      <td>Emma</td>\n",
       "      <td>2004</td>\n",
       "      <td>F</td>\n",
       "      <td>AK</td>\n",
       "      <td>62</td>\n",
       "    </tr>\n",
       "    <tr>\n",
       "      <th>1</th>\n",
       "      <td>Madison</td>\n",
       "      <td>2004</td>\n",
       "      <td>F</td>\n",
       "      <td>AK</td>\n",
       "      <td>48</td>\n",
       "    </tr>\n",
       "    <tr>\n",
       "      <th>2</th>\n",
       "      <td>Hannah</td>\n",
       "      <td>2004</td>\n",
       "      <td>F</td>\n",
       "      <td>AK</td>\n",
       "      <td>46</td>\n",
       "    </tr>\n",
       "    <tr>\n",
       "      <th>3</th>\n",
       "      <td>Grace</td>\n",
       "      <td>2004</td>\n",
       "      <td>F</td>\n",
       "      <td>AK</td>\n",
       "      <td>44</td>\n",
       "    </tr>\n",
       "    <tr>\n",
       "      <th>4</th>\n",
       "      <td>Emily</td>\n",
       "      <td>2004</td>\n",
       "      <td>F</td>\n",
       "      <td>AK</td>\n",
       "      <td>41</td>\n",
       "    </tr>\n",
       "    <tr>\n",
       "      <th>...</th>\n",
       "      <td>...</td>\n",
       "      <td>...</td>\n",
       "      <td>...</td>\n",
       "      <td>...</td>\n",
       "      <td>...</td>\n",
       "    </tr>\n",
       "    <tr>\n",
       "      <th>1016390</th>\n",
       "      <td>Seth</td>\n",
       "      <td>2014</td>\n",
       "      <td>M</td>\n",
       "      <td>WY</td>\n",
       "      <td>5</td>\n",
       "    </tr>\n",
       "    <tr>\n",
       "      <th>1016391</th>\n",
       "      <td>Spencer</td>\n",
       "      <td>2014</td>\n",
       "      <td>M</td>\n",
       "      <td>WY</td>\n",
       "      <td>5</td>\n",
       "    </tr>\n",
       "    <tr>\n",
       "      <th>1016392</th>\n",
       "      <td>Tyce</td>\n",
       "      <td>2014</td>\n",
       "      <td>M</td>\n",
       "      <td>WY</td>\n",
       "      <td>5</td>\n",
       "    </tr>\n",
       "    <tr>\n",
       "      <th>1016393</th>\n",
       "      <td>Victor</td>\n",
       "      <td>2014</td>\n",
       "      <td>M</td>\n",
       "      <td>WY</td>\n",
       "      <td>5</td>\n",
       "    </tr>\n",
       "    <tr>\n",
       "      <th>1016394</th>\n",
       "      <td>Waylon</td>\n",
       "      <td>2014</td>\n",
       "      <td>M</td>\n",
       "      <td>WY</td>\n",
       "      <td>5</td>\n",
       "    </tr>\n",
       "  </tbody>\n",
       "</table>\n",
       "<p>1016395 rows × 5 columns</p>\n",
       "</div>"
      ],
      "text/plain": [
       "            Name  Year Gender State  Count\n",
       "0           Emma  2004      F    AK     62\n",
       "1        Madison  2004      F    AK     48\n",
       "2         Hannah  2004      F    AK     46\n",
       "3          Grace  2004      F    AK     44\n",
       "4          Emily  2004      F    AK     41\n",
       "...          ...   ...    ...   ...    ...\n",
       "1016390     Seth  2014      M    WY      5\n",
       "1016391  Spencer  2014      M    WY      5\n",
       "1016392     Tyce  2014      M    WY      5\n",
       "1016393   Victor  2014      M    WY      5\n",
       "1016394   Waylon  2014      M    WY      5\n",
       "\n",
       "[1016395 rows x 5 columns]"
      ]
     },
     "execution_count": 11,
     "metadata": {},
     "output_type": "execute_result"
    }
   ],
   "source": [
    "baby_names"
   ]
  },
  {
   "cell_type": "markdown",
   "metadata": {},
   "source": [
    "### Step 6. Is there more male or female names in the dataset?"
   ]
  },
  {
   "cell_type": "code",
   "execution_count": 12,
   "metadata": {
    "collapsed": false
   },
   "outputs": [
    {
     "data": {
      "text/plain": [
       "Gender\n",
       "F    558846\n",
       "M    457549\n",
       "Name: count, dtype: int64"
      ]
     },
     "execution_count": 12,
     "metadata": {},
     "output_type": "execute_result"
    }
   ],
   "source": [
    "baby_names.Gender.value_counts()"
   ]
  },
  {
   "cell_type": "markdown",
   "metadata": {},
   "source": [
    "### Step 7. Group the dataset by name and assign to names"
   ]
  },
  {
   "cell_type": "code",
   "execution_count": 13,
   "metadata": {
    "collapsed": false
   },
   "outputs": [
    {
     "data": {
      "text/plain": [
       "Name\n",
       "Aaban        12\n",
       "Aadan        23\n",
       "Aadarsh       5\n",
       "Aaden      3426\n",
       "Aadhav        6\n",
       "           ... \n",
       "Zyra         42\n",
       "Zyrah        11\n",
       "Zyren         6\n",
       "Zyria        59\n",
       "Zyriah       58\n",
       "Name: Count, Length: 17632, dtype: int64"
      ]
     },
     "execution_count": 13,
     "metadata": {},
     "output_type": "execute_result"
    }
   ],
   "source": [
    "\n",
    "names = baby_names.groupby(\"Name\")\n",
    "names[\"Count\"].sum()"
   ]
  },
  {
   "cell_type": "markdown",
   "metadata": {},
   "source": [
    "### Step 8. How many different names exist in the dataset?"
   ]
  },
  {
   "cell_type": "code",
   "execution_count": 14,
   "metadata": {
    "collapsed": false
   },
   "outputs": [
    {
     "data": {
      "text/plain": [
       "17632"
      ]
     },
     "execution_count": 14,
     "metadata": {},
     "output_type": "execute_result"
    }
   ],
   "source": [
    "baby_names.Name.nunique()"
   ]
  },
  {
   "cell_type": "markdown",
   "metadata": {},
   "source": [
    "### Step 9. What is the name with most occurrences?"
   ]
  },
  {
   "cell_type": "code",
   "execution_count": 15,
   "metadata": {
    "collapsed": false
   },
   "outputs": [
    {
     "data": {
      "text/plain": [
       "'Riley'"
      ]
     },
     "execution_count": 15,
     "metadata": {},
     "output_type": "execute_result"
    }
   ],
   "source": [
    "baby_names.Name.value_counts().index[0]"
   ]
  },
  {
   "cell_type": "markdown",
   "metadata": {},
   "source": [
    "### Step 10. How many different names have the least occurrences?"
   ]
  },
  {
   "cell_type": "code",
   "execution_count": 16,
   "metadata": {
    "collapsed": false
   },
   "outputs": [
    {
     "data": {
      "text/plain": [
       "3682"
      ]
     },
     "execution_count": 16,
     "metadata": {},
     "output_type": "execute_result"
    }
   ],
   "source": [
    "(baby_names.Name.value_counts() == baby_names.Name.value_counts().min()).sum()"
   ]
  },
  {
   "cell_type": "markdown",
   "metadata": {},
   "source": [
    "### Step 11. What is the median name occurrence?"
   ]
  },
  {
   "cell_type": "code",
   "execution_count": 17,
   "metadata": {
    "collapsed": false
   },
   "outputs": [
    {
     "data": {
      "text/plain": [
       "8.0"
      ]
     },
     "execution_count": 17,
     "metadata": {},
     "output_type": "execute_result"
    }
   ],
   "source": [
    "baby_names.Name.value_counts().median()"
   ]
  },
  {
   "cell_type": "markdown",
   "metadata": {},
   "source": [
    "### Step 12. What is the standard deviation of names?"
   ]
  },
  {
   "cell_type": "code",
   "execution_count": 18,
   "metadata": {
    "collapsed": false
   },
   "outputs": [
    {
     "data": {
      "text/plain": [
       "122.02996350814088"
      ]
     },
     "execution_count": 18,
     "metadata": {},
     "output_type": "execute_result"
    }
   ],
   "source": [
    "baby_names.Name.value_counts().std()"
   ]
  },
  {
   "cell_type": "markdown",
   "metadata": {},
   "source": [
    "### Step 13. Get a summary with the mean, min, max, std and quartiles."
   ]
  },
  {
   "cell_type": "code",
   "execution_count": 19,
   "metadata": {
    "collapsed": false
   },
   "outputs": [
    {
     "data": {
      "application/vnd.microsoft.datawrangler.viewer.v0+json": {
       "columns": [
        {
         "name": "index",
         "rawType": "object",
         "type": "string"
        },
        {
         "name": "Year",
         "rawType": "float64",
         "type": "float"
        },
        {
         "name": "Count",
         "rawType": "float64",
         "type": "float"
        }
       ],
       "conversionMethod": "pd.DataFrame",
       "ref": "60d4c5ee-487d-40a5-9030-cd02fe86c2c2",
       "rows": [
        [
         "count",
         "1016395.0",
         "1016395.0"
        ],
        [
         "mean",
         "2009.0531899507573",
         "34.85012421351935"
        ],
        [
         "std",
         "3.1382928281950115",
         "97.39734648625934"
        ],
        [
         "min",
         "2004.0",
         "5.0"
        ],
        [
         "25%",
         "2006.0",
         "7.0"
        ],
        [
         "50%",
         "2009.0",
         "11.0"
        ],
        [
         "75%",
         "2012.0",
         "26.0"
        ],
        [
         "max",
         "2014.0",
         "4167.0"
        ]
       ],
       "shape": {
        "columns": 2,
        "rows": 8
       }
      },
      "text/html": [
       "<div>\n",
       "<style scoped>\n",
       "    .dataframe tbody tr th:only-of-type {\n",
       "        vertical-align: middle;\n",
       "    }\n",
       "\n",
       "    .dataframe tbody tr th {\n",
       "        vertical-align: top;\n",
       "    }\n",
       "\n",
       "    .dataframe thead th {\n",
       "        text-align: right;\n",
       "    }\n",
       "</style>\n",
       "<table border=\"1\" class=\"dataframe\">\n",
       "  <thead>\n",
       "    <tr style=\"text-align: right;\">\n",
       "      <th></th>\n",
       "      <th>Year</th>\n",
       "      <th>Count</th>\n",
       "    </tr>\n",
       "  </thead>\n",
       "  <tbody>\n",
       "    <tr>\n",
       "      <th>count</th>\n",
       "      <td>1.016395e+06</td>\n",
       "      <td>1.016395e+06</td>\n",
       "    </tr>\n",
       "    <tr>\n",
       "      <th>mean</th>\n",
       "      <td>2.009053e+03</td>\n",
       "      <td>3.485012e+01</td>\n",
       "    </tr>\n",
       "    <tr>\n",
       "      <th>std</th>\n",
       "      <td>3.138293e+00</td>\n",
       "      <td>9.739735e+01</td>\n",
       "    </tr>\n",
       "    <tr>\n",
       "      <th>min</th>\n",
       "      <td>2.004000e+03</td>\n",
       "      <td>5.000000e+00</td>\n",
       "    </tr>\n",
       "    <tr>\n",
       "      <th>25%</th>\n",
       "      <td>2.006000e+03</td>\n",
       "      <td>7.000000e+00</td>\n",
       "    </tr>\n",
       "    <tr>\n",
       "      <th>50%</th>\n",
       "      <td>2.009000e+03</td>\n",
       "      <td>1.100000e+01</td>\n",
       "    </tr>\n",
       "    <tr>\n",
       "      <th>75%</th>\n",
       "      <td>2.012000e+03</td>\n",
       "      <td>2.600000e+01</td>\n",
       "    </tr>\n",
       "    <tr>\n",
       "      <th>max</th>\n",
       "      <td>2.014000e+03</td>\n",
       "      <td>4.167000e+03</td>\n",
       "    </tr>\n",
       "  </tbody>\n",
       "</table>\n",
       "</div>"
      ],
      "text/plain": [
       "               Year         Count\n",
       "count  1.016395e+06  1.016395e+06\n",
       "mean   2.009053e+03  3.485012e+01\n",
       "std    3.138293e+00  9.739735e+01\n",
       "min    2.004000e+03  5.000000e+00\n",
       "25%    2.006000e+03  7.000000e+00\n",
       "50%    2.009000e+03  1.100000e+01\n",
       "75%    2.012000e+03  2.600000e+01\n",
       "max    2.014000e+03  4.167000e+03"
      ]
     },
     "execution_count": 19,
     "metadata": {},
     "output_type": "execute_result"
    }
   ],
   "source": [
    "baby_names.describe()"
   ]
  }
 ],
 "metadata": {
  "anaconda-cloud": {},
  "kernelspec": {
   "display_name": "Python 3",
   "language": "python",
   "name": "python3"
  },
  "language_info": {
   "codemirror_mode": {
    "name": "ipython",
    "version": 3
   },
   "file_extension": ".py",
   "mimetype": "text/x-python",
   "name": "python",
   "nbconvert_exporter": "python",
   "pygments_lexer": "ipython3",
   "version": "3.12.4"
  }
 },
 "nbformat": 4,
 "nbformat_minor": 0
}
