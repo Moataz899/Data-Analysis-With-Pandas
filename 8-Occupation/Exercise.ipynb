{
 "cells": [
  {
   "cell_type": "markdown",
   "metadata": {},
   "source": [
    "# Occupation"
   ]
  },
  {
   "cell_type": "markdown",
   "metadata": {},
   "source": [
    "### Introduction:\n",
    "\n",
    "Special thanks to: https://github.com/justmarkham for sharing the dataset and materials.\n",
    "\n",
    "### Step 1. Import the necessary libraries"
   ]
  },
  {
   "cell_type": "code",
   "execution_count": 1,
   "metadata": {
    "collapsed": false
   },
   "outputs": [],
   "source": [
    "import pandas as pd\n",
    "import numpy as np\n",
    "import warnings\n",
    "warnings.filterwarnings(\"ignore\")"
   ]
  },
  {
   "cell_type": "markdown",
   "metadata": {},
   "source": [
    "### Step 2. Import the dataset from this [address](https://raw.githubusercontent.com/justmarkham/DAT8/master/data/u.user). "
   ]
  },
  {
   "cell_type": "code",
   "execution_count": 2,
   "metadata": {},
   "outputs": [],
   "source": [
    "data = pd.read_table('https://raw.githubusercontent.com/justmarkham/DAT8/master/data/u.user' , sep='|')\n"
   ]
  },
  {
   "cell_type": "code",
   "execution_count": 3,
   "metadata": {},
   "outputs": [
    {
     "data": {
      "application/vnd.microsoft.datawrangler.viewer.v0+json": {
       "columns": [
        {
         "name": "index",
         "rawType": "int64",
         "type": "integer"
        },
        {
         "name": "user_id",
         "rawType": "int64",
         "type": "integer"
        },
        {
         "name": "age",
         "rawType": "int64",
         "type": "integer"
        },
        {
         "name": "gender",
         "rawType": "object",
         "type": "string"
        },
        {
         "name": "occupation",
         "rawType": "object",
         "type": "string"
        },
        {
         "name": "zip_code",
         "rawType": "object",
         "type": "string"
        }
       ],
       "conversionMethod": "pd.DataFrame",
       "ref": "4f12c7cf-7f0c-4358-b4f4-f97372567f44",
       "rows": [
        [
         "0",
         "1",
         "24",
         "M",
         "technician",
         "85711"
        ],
        [
         "1",
         "2",
         "53",
         "F",
         "other",
         "94043"
        ],
        [
         "2",
         "3",
         "23",
         "M",
         "writer",
         "32067"
        ],
        [
         "3",
         "4",
         "24",
         "M",
         "technician",
         "43537"
        ],
        [
         "4",
         "5",
         "33",
         "F",
         "other",
         "15213"
        ],
        [
         "5",
         "6",
         "42",
         "M",
         "executive",
         "98101"
        ],
        [
         "6",
         "7",
         "57",
         "M",
         "administrator",
         "91344"
        ],
        [
         "7",
         "8",
         "36",
         "M",
         "administrator",
         "05201"
        ],
        [
         "8",
         "9",
         "29",
         "M",
         "student",
         "01002"
        ],
        [
         "9",
         "10",
         "53",
         "M",
         "lawyer",
         "90703"
        ],
        [
         "10",
         "11",
         "39",
         "F",
         "other",
         "30329"
        ],
        [
         "11",
         "12",
         "28",
         "F",
         "other",
         "06405"
        ],
        [
         "12",
         "13",
         "47",
         "M",
         "educator",
         "29206"
        ],
        [
         "13",
         "14",
         "45",
         "M",
         "scientist",
         "55106"
        ],
        [
         "14",
         "15",
         "49",
         "F",
         "educator",
         "97301"
        ],
        [
         "15",
         "16",
         "21",
         "M",
         "entertainment",
         "10309"
        ],
        [
         "16",
         "17",
         "30",
         "M",
         "programmer",
         "06355"
        ],
        [
         "17",
         "18",
         "35",
         "F",
         "other",
         "37212"
        ],
        [
         "18",
         "19",
         "40",
         "M",
         "librarian",
         "02138"
        ],
        [
         "19",
         "20",
         "42",
         "F",
         "homemaker",
         "95660"
        ],
        [
         "20",
         "21",
         "26",
         "M",
         "writer",
         "30068"
        ],
        [
         "21",
         "22",
         "25",
         "M",
         "writer",
         "40206"
        ],
        [
         "22",
         "23",
         "30",
         "F",
         "artist",
         "48197"
        ],
        [
         "23",
         "24",
         "21",
         "F",
         "artist",
         "94533"
        ],
        [
         "24",
         "25",
         "39",
         "M",
         "engineer",
         "55107"
        ],
        [
         "25",
         "26",
         "49",
         "M",
         "engineer",
         "21044"
        ],
        [
         "26",
         "27",
         "40",
         "F",
         "librarian",
         "30030"
        ],
        [
         "27",
         "28",
         "32",
         "M",
         "writer",
         "55369"
        ],
        [
         "28",
         "29",
         "41",
         "M",
         "programmer",
         "94043"
        ],
        [
         "29",
         "30",
         "7",
         "M",
         "student",
         "55436"
        ],
        [
         "30",
         "31",
         "24",
         "M",
         "artist",
         "10003"
        ],
        [
         "31",
         "32",
         "28",
         "F",
         "student",
         "78741"
        ],
        [
         "32",
         "33",
         "23",
         "M",
         "student",
         "27510"
        ],
        [
         "33",
         "34",
         "38",
         "F",
         "administrator",
         "42141"
        ],
        [
         "34",
         "35",
         "20",
         "F",
         "homemaker",
         "42459"
        ],
        [
         "35",
         "36",
         "19",
         "F",
         "student",
         "93117"
        ],
        [
         "36",
         "37",
         "23",
         "M",
         "student",
         "55105"
        ],
        [
         "37",
         "38",
         "28",
         "F",
         "other",
         "54467"
        ],
        [
         "38",
         "39",
         "41",
         "M",
         "entertainment",
         "01040"
        ],
        [
         "39",
         "40",
         "38",
         "M",
         "scientist",
         "27514"
        ],
        [
         "40",
         "41",
         "33",
         "M",
         "engineer",
         "80525"
        ],
        [
         "41",
         "42",
         "30",
         "M",
         "administrator",
         "17870"
        ],
        [
         "42",
         "43",
         "29",
         "F",
         "librarian",
         "20854"
        ],
        [
         "43",
         "44",
         "26",
         "M",
         "technician",
         "46260"
        ],
        [
         "44",
         "45",
         "29",
         "M",
         "programmer",
         "50233"
        ],
        [
         "45",
         "46",
         "27",
         "F",
         "marketing",
         "46538"
        ],
        [
         "46",
         "47",
         "53",
         "M",
         "marketing",
         "07102"
        ],
        [
         "47",
         "48",
         "45",
         "M",
         "administrator",
         "12550"
        ],
        [
         "48",
         "49",
         "23",
         "F",
         "student",
         "76111"
        ],
        [
         "49",
         "50",
         "21",
         "M",
         "writer",
         "52245"
        ]
       ],
       "shape": {
        "columns": 5,
        "rows": 943
       }
      },
      "text/html": [
       "<div>\n",
       "<style scoped>\n",
       "    .dataframe tbody tr th:only-of-type {\n",
       "        vertical-align: middle;\n",
       "    }\n",
       "\n",
       "    .dataframe tbody tr th {\n",
       "        vertical-align: top;\n",
       "    }\n",
       "\n",
       "    .dataframe thead th {\n",
       "        text-align: right;\n",
       "    }\n",
       "</style>\n",
       "<table border=\"1\" class=\"dataframe\">\n",
       "  <thead>\n",
       "    <tr style=\"text-align: right;\">\n",
       "      <th></th>\n",
       "      <th>user_id</th>\n",
       "      <th>age</th>\n",
       "      <th>gender</th>\n",
       "      <th>occupation</th>\n",
       "      <th>zip_code</th>\n",
       "    </tr>\n",
       "  </thead>\n",
       "  <tbody>\n",
       "    <tr>\n",
       "      <th>0</th>\n",
       "      <td>1</td>\n",
       "      <td>24</td>\n",
       "      <td>M</td>\n",
       "      <td>technician</td>\n",
       "      <td>85711</td>\n",
       "    </tr>\n",
       "    <tr>\n",
       "      <th>1</th>\n",
       "      <td>2</td>\n",
       "      <td>53</td>\n",
       "      <td>F</td>\n",
       "      <td>other</td>\n",
       "      <td>94043</td>\n",
       "    </tr>\n",
       "    <tr>\n",
       "      <th>2</th>\n",
       "      <td>3</td>\n",
       "      <td>23</td>\n",
       "      <td>M</td>\n",
       "      <td>writer</td>\n",
       "      <td>32067</td>\n",
       "    </tr>\n",
       "    <tr>\n",
       "      <th>3</th>\n",
       "      <td>4</td>\n",
       "      <td>24</td>\n",
       "      <td>M</td>\n",
       "      <td>technician</td>\n",
       "      <td>43537</td>\n",
       "    </tr>\n",
       "    <tr>\n",
       "      <th>4</th>\n",
       "      <td>5</td>\n",
       "      <td>33</td>\n",
       "      <td>F</td>\n",
       "      <td>other</td>\n",
       "      <td>15213</td>\n",
       "    </tr>\n",
       "    <tr>\n",
       "      <th>...</th>\n",
       "      <td>...</td>\n",
       "      <td>...</td>\n",
       "      <td>...</td>\n",
       "      <td>...</td>\n",
       "      <td>...</td>\n",
       "    </tr>\n",
       "    <tr>\n",
       "      <th>938</th>\n",
       "      <td>939</td>\n",
       "      <td>26</td>\n",
       "      <td>F</td>\n",
       "      <td>student</td>\n",
       "      <td>33319</td>\n",
       "    </tr>\n",
       "    <tr>\n",
       "      <th>939</th>\n",
       "      <td>940</td>\n",
       "      <td>32</td>\n",
       "      <td>M</td>\n",
       "      <td>administrator</td>\n",
       "      <td>02215</td>\n",
       "    </tr>\n",
       "    <tr>\n",
       "      <th>940</th>\n",
       "      <td>941</td>\n",
       "      <td>20</td>\n",
       "      <td>M</td>\n",
       "      <td>student</td>\n",
       "      <td>97229</td>\n",
       "    </tr>\n",
       "    <tr>\n",
       "      <th>941</th>\n",
       "      <td>942</td>\n",
       "      <td>48</td>\n",
       "      <td>F</td>\n",
       "      <td>librarian</td>\n",
       "      <td>78209</td>\n",
       "    </tr>\n",
       "    <tr>\n",
       "      <th>942</th>\n",
       "      <td>943</td>\n",
       "      <td>22</td>\n",
       "      <td>M</td>\n",
       "      <td>student</td>\n",
       "      <td>77841</td>\n",
       "    </tr>\n",
       "  </tbody>\n",
       "</table>\n",
       "<p>943 rows × 5 columns</p>\n",
       "</div>"
      ],
      "text/plain": [
       "     user_id  age gender     occupation zip_code\n",
       "0          1   24      M     technician    85711\n",
       "1          2   53      F          other    94043\n",
       "2          3   23      M         writer    32067\n",
       "3          4   24      M     technician    43537\n",
       "4          5   33      F          other    15213\n",
       "..       ...  ...    ...            ...      ...\n",
       "938      939   26      F        student    33319\n",
       "939      940   32      M  administrator    02215\n",
       "940      941   20      M        student    97229\n",
       "941      942   48      F      librarian    78209\n",
       "942      943   22      M        student    77841\n",
       "\n",
       "[943 rows x 5 columns]"
      ]
     },
     "execution_count": 3,
     "metadata": {},
     "output_type": "execute_result"
    }
   ],
   "source": [
    "data"
   ]
  },
  {
   "cell_type": "markdown",
   "metadata": {},
   "source": [
    "### Step 3. Assign it to a variable called users."
   ]
  },
  {
   "cell_type": "code",
   "execution_count": 4,
   "metadata": {
    "collapsed": false
   },
   "outputs": [],
   "source": [
    "users = data"
   ]
  },
  {
   "cell_type": "code",
   "execution_count": 5,
   "metadata": {},
   "outputs": [
    {
     "data": {
      "application/vnd.microsoft.datawrangler.viewer.v0+json": {
       "columns": [
        {
         "name": "index",
         "rawType": "int64",
         "type": "integer"
        },
        {
         "name": "user_id",
         "rawType": "int64",
         "type": "integer"
        },
        {
         "name": "age",
         "rawType": "int64",
         "type": "integer"
        },
        {
         "name": "gender",
         "rawType": "object",
         "type": "string"
        },
        {
         "name": "occupation",
         "rawType": "object",
         "type": "string"
        },
        {
         "name": "zip_code",
         "rawType": "object",
         "type": "string"
        }
       ],
       "conversionMethod": "pd.DataFrame",
       "ref": "60bb29c2-e669-435c-870e-4f9c6d8aa96c",
       "rows": [
        [
         "0",
         "1",
         "24",
         "M",
         "technician",
         "85711"
        ],
        [
         "1",
         "2",
         "53",
         "F",
         "other",
         "94043"
        ],
        [
         "2",
         "3",
         "23",
         "M",
         "writer",
         "32067"
        ],
        [
         "3",
         "4",
         "24",
         "M",
         "technician",
         "43537"
        ],
        [
         "4",
         "5",
         "33",
         "F",
         "other",
         "15213"
        ],
        [
         "5",
         "6",
         "42",
         "M",
         "executive",
         "98101"
        ],
        [
         "6",
         "7",
         "57",
         "M",
         "administrator",
         "91344"
        ],
        [
         "7",
         "8",
         "36",
         "M",
         "administrator",
         "05201"
        ],
        [
         "8",
         "9",
         "29",
         "M",
         "student",
         "01002"
        ],
        [
         "9",
         "10",
         "53",
         "M",
         "lawyer",
         "90703"
        ],
        [
         "10",
         "11",
         "39",
         "F",
         "other",
         "30329"
        ],
        [
         "11",
         "12",
         "28",
         "F",
         "other",
         "06405"
        ],
        [
         "12",
         "13",
         "47",
         "M",
         "educator",
         "29206"
        ],
        [
         "13",
         "14",
         "45",
         "M",
         "scientist",
         "55106"
        ],
        [
         "14",
         "15",
         "49",
         "F",
         "educator",
         "97301"
        ],
        [
         "15",
         "16",
         "21",
         "M",
         "entertainment",
         "10309"
        ],
        [
         "16",
         "17",
         "30",
         "M",
         "programmer",
         "06355"
        ],
        [
         "17",
         "18",
         "35",
         "F",
         "other",
         "37212"
        ],
        [
         "18",
         "19",
         "40",
         "M",
         "librarian",
         "02138"
        ],
        [
         "19",
         "20",
         "42",
         "F",
         "homemaker",
         "95660"
        ],
        [
         "20",
         "21",
         "26",
         "M",
         "writer",
         "30068"
        ],
        [
         "21",
         "22",
         "25",
         "M",
         "writer",
         "40206"
        ],
        [
         "22",
         "23",
         "30",
         "F",
         "artist",
         "48197"
        ],
        [
         "23",
         "24",
         "21",
         "F",
         "artist",
         "94533"
        ],
        [
         "24",
         "25",
         "39",
         "M",
         "engineer",
         "55107"
        ],
        [
         "25",
         "26",
         "49",
         "M",
         "engineer",
         "21044"
        ],
        [
         "26",
         "27",
         "40",
         "F",
         "librarian",
         "30030"
        ],
        [
         "27",
         "28",
         "32",
         "M",
         "writer",
         "55369"
        ],
        [
         "28",
         "29",
         "41",
         "M",
         "programmer",
         "94043"
        ],
        [
         "29",
         "30",
         "7",
         "M",
         "student",
         "55436"
        ],
        [
         "30",
         "31",
         "24",
         "M",
         "artist",
         "10003"
        ],
        [
         "31",
         "32",
         "28",
         "F",
         "student",
         "78741"
        ],
        [
         "32",
         "33",
         "23",
         "M",
         "student",
         "27510"
        ],
        [
         "33",
         "34",
         "38",
         "F",
         "administrator",
         "42141"
        ],
        [
         "34",
         "35",
         "20",
         "F",
         "homemaker",
         "42459"
        ],
        [
         "35",
         "36",
         "19",
         "F",
         "student",
         "93117"
        ],
        [
         "36",
         "37",
         "23",
         "M",
         "student",
         "55105"
        ],
        [
         "37",
         "38",
         "28",
         "F",
         "other",
         "54467"
        ],
        [
         "38",
         "39",
         "41",
         "M",
         "entertainment",
         "01040"
        ],
        [
         "39",
         "40",
         "38",
         "M",
         "scientist",
         "27514"
        ],
        [
         "40",
         "41",
         "33",
         "M",
         "engineer",
         "80525"
        ],
        [
         "41",
         "42",
         "30",
         "M",
         "administrator",
         "17870"
        ],
        [
         "42",
         "43",
         "29",
         "F",
         "librarian",
         "20854"
        ],
        [
         "43",
         "44",
         "26",
         "M",
         "technician",
         "46260"
        ],
        [
         "44",
         "45",
         "29",
         "M",
         "programmer",
         "50233"
        ],
        [
         "45",
         "46",
         "27",
         "F",
         "marketing",
         "46538"
        ],
        [
         "46",
         "47",
         "53",
         "M",
         "marketing",
         "07102"
        ],
        [
         "47",
         "48",
         "45",
         "M",
         "administrator",
         "12550"
        ],
        [
         "48",
         "49",
         "23",
         "F",
         "student",
         "76111"
        ],
        [
         "49",
         "50",
         "21",
         "M",
         "writer",
         "52245"
        ]
       ],
       "shape": {
        "columns": 5,
        "rows": 943
       }
      },
      "text/html": [
       "<div>\n",
       "<style scoped>\n",
       "    .dataframe tbody tr th:only-of-type {\n",
       "        vertical-align: middle;\n",
       "    }\n",
       "\n",
       "    .dataframe tbody tr th {\n",
       "        vertical-align: top;\n",
       "    }\n",
       "\n",
       "    .dataframe thead th {\n",
       "        text-align: right;\n",
       "    }\n",
       "</style>\n",
       "<table border=\"1\" class=\"dataframe\">\n",
       "  <thead>\n",
       "    <tr style=\"text-align: right;\">\n",
       "      <th></th>\n",
       "      <th>user_id</th>\n",
       "      <th>age</th>\n",
       "      <th>gender</th>\n",
       "      <th>occupation</th>\n",
       "      <th>zip_code</th>\n",
       "    </tr>\n",
       "  </thead>\n",
       "  <tbody>\n",
       "    <tr>\n",
       "      <th>0</th>\n",
       "      <td>1</td>\n",
       "      <td>24</td>\n",
       "      <td>M</td>\n",
       "      <td>technician</td>\n",
       "      <td>85711</td>\n",
       "    </tr>\n",
       "    <tr>\n",
       "      <th>1</th>\n",
       "      <td>2</td>\n",
       "      <td>53</td>\n",
       "      <td>F</td>\n",
       "      <td>other</td>\n",
       "      <td>94043</td>\n",
       "    </tr>\n",
       "    <tr>\n",
       "      <th>2</th>\n",
       "      <td>3</td>\n",
       "      <td>23</td>\n",
       "      <td>M</td>\n",
       "      <td>writer</td>\n",
       "      <td>32067</td>\n",
       "    </tr>\n",
       "    <tr>\n",
       "      <th>3</th>\n",
       "      <td>4</td>\n",
       "      <td>24</td>\n",
       "      <td>M</td>\n",
       "      <td>technician</td>\n",
       "      <td>43537</td>\n",
       "    </tr>\n",
       "    <tr>\n",
       "      <th>4</th>\n",
       "      <td>5</td>\n",
       "      <td>33</td>\n",
       "      <td>F</td>\n",
       "      <td>other</td>\n",
       "      <td>15213</td>\n",
       "    </tr>\n",
       "    <tr>\n",
       "      <th>...</th>\n",
       "      <td>...</td>\n",
       "      <td>...</td>\n",
       "      <td>...</td>\n",
       "      <td>...</td>\n",
       "      <td>...</td>\n",
       "    </tr>\n",
       "    <tr>\n",
       "      <th>938</th>\n",
       "      <td>939</td>\n",
       "      <td>26</td>\n",
       "      <td>F</td>\n",
       "      <td>student</td>\n",
       "      <td>33319</td>\n",
       "    </tr>\n",
       "    <tr>\n",
       "      <th>939</th>\n",
       "      <td>940</td>\n",
       "      <td>32</td>\n",
       "      <td>M</td>\n",
       "      <td>administrator</td>\n",
       "      <td>02215</td>\n",
       "    </tr>\n",
       "    <tr>\n",
       "      <th>940</th>\n",
       "      <td>941</td>\n",
       "      <td>20</td>\n",
       "      <td>M</td>\n",
       "      <td>student</td>\n",
       "      <td>97229</td>\n",
       "    </tr>\n",
       "    <tr>\n",
       "      <th>941</th>\n",
       "      <td>942</td>\n",
       "      <td>48</td>\n",
       "      <td>F</td>\n",
       "      <td>librarian</td>\n",
       "      <td>78209</td>\n",
       "    </tr>\n",
       "    <tr>\n",
       "      <th>942</th>\n",
       "      <td>943</td>\n",
       "      <td>22</td>\n",
       "      <td>M</td>\n",
       "      <td>student</td>\n",
       "      <td>77841</td>\n",
       "    </tr>\n",
       "  </tbody>\n",
       "</table>\n",
       "<p>943 rows × 5 columns</p>\n",
       "</div>"
      ],
      "text/plain": [
       "     user_id  age gender     occupation zip_code\n",
       "0          1   24      M     technician    85711\n",
       "1          2   53      F          other    94043\n",
       "2          3   23      M         writer    32067\n",
       "3          4   24      M     technician    43537\n",
       "4          5   33      F          other    15213\n",
       "..       ...  ...    ...            ...      ...\n",
       "938      939   26      F        student    33319\n",
       "939      940   32      M  administrator    02215\n",
       "940      941   20      M        student    97229\n",
       "941      942   48      F      librarian    78209\n",
       "942      943   22      M        student    77841\n",
       "\n",
       "[943 rows x 5 columns]"
      ]
     },
     "execution_count": 5,
     "metadata": {},
     "output_type": "execute_result"
    }
   ],
   "source": [
    "users"
   ]
  },
  {
   "cell_type": "markdown",
   "metadata": {},
   "source": [
    "### Step 4. Discover what is the mean age per occupation"
   ]
  },
  {
   "cell_type": "code",
   "execution_count": 6,
   "metadata": {
    "collapsed": false
   },
   "outputs": [
    {
     "data": {
      "text/plain": [
       "occupation\n",
       "administrator    38.746835\n",
       "artist           31.392857\n",
       "doctor           43.571429\n",
       "educator         42.010526\n",
       "engineer         36.388060\n",
       "entertainment    29.222222\n",
       "executive        38.718750\n",
       "healthcare       41.562500\n",
       "homemaker        32.571429\n",
       "lawyer           36.750000\n",
       "librarian        40.000000\n",
       "marketing        37.615385\n",
       "none             26.555556\n",
       "other            34.523810\n",
       "programmer       33.121212\n",
       "retired          63.071429\n",
       "salesman         35.666667\n",
       "scientist        35.548387\n",
       "student          22.081633\n",
       "technician       33.148148\n",
       "writer           36.311111\n",
       "Name: age, dtype: float64"
      ]
     },
     "execution_count": 6,
     "metadata": {},
     "output_type": "execute_result"
    }
   ],
   "source": [
    "users.groupby('occupation').age.mean()"
   ]
  },
  {
   "cell_type": "markdown",
   "metadata": {},
   "source": [
    "### Step 5. Discover the Male ratio per occupation and sort it from the most to the least"
   ]
  },
  {
   "cell_type": "code",
   "execution_count": 7,
   "metadata": {
    "collapsed": false
   },
   "outputs": [
    {
     "data": {
      "text/plain": [
       "occupation\n",
       "administrator   NaN\n",
       "artist          NaN\n",
       "doctor          NaN\n",
       "educator        NaN\n",
       "engineer        NaN\n",
       "entertainment   NaN\n",
       "executive       NaN\n",
       "healthcare      NaN\n",
       "homemaker       NaN\n",
       "lawyer          NaN\n",
       "librarian       NaN\n",
       "marketing       NaN\n",
       "none            NaN\n",
       "other           NaN\n",
       "programmer      NaN\n",
       "retired         NaN\n",
       "salesman        NaN\n",
       "scientist       NaN\n",
       "student         NaN\n",
       "technician      NaN\n",
       "writer          NaN\n",
       "dtype: float64"
      ]
     },
     "execution_count": 7,
     "metadata": {},
     "output_type": "execute_result"
    }
   ],
   "source": [
    "(users[users['gender'] == 'Male'].groupby('occupation').size() / users.groupby('occupation').size()).sort_values(ascending=False)"
   ]
  },
  {
   "cell_type": "markdown",
   "metadata": {},
   "source": [
    "### Step 6. For each occupation, calculate the minimum and maximum ages"
   ]
  },
  {
   "cell_type": "code",
   "execution_count": 9,
   "metadata": {},
   "outputs": [
    {
     "data": {
      "application/vnd.microsoft.datawrangler.viewer.v0+json": {
       "columns": [
        {
         "name": "occupation",
         "rawType": "object",
         "type": "string"
        },
        {
         "name": "min",
         "rawType": "int64",
         "type": "integer"
        },
        {
         "name": "max",
         "rawType": "int64",
         "type": "integer"
        }
       ],
       "conversionMethod": "pd.DataFrame",
       "ref": "1f721b37-2216-4845-b50c-d6f9659f68f1",
       "rows": [
        [
         "administrator",
         "21",
         "70"
        ],
        [
         "artist",
         "19",
         "48"
        ],
        [
         "doctor",
         "28",
         "64"
        ],
        [
         "educator",
         "23",
         "63"
        ],
        [
         "engineer",
         "22",
         "70"
        ],
        [
         "entertainment",
         "15",
         "50"
        ],
        [
         "executive",
         "22",
         "69"
        ],
        [
         "healthcare",
         "22",
         "62"
        ],
        [
         "homemaker",
         "20",
         "50"
        ],
        [
         "lawyer",
         "21",
         "53"
        ],
        [
         "librarian",
         "23",
         "69"
        ],
        [
         "marketing",
         "24",
         "55"
        ],
        [
         "none",
         "11",
         "55"
        ],
        [
         "other",
         "13",
         "64"
        ],
        [
         "programmer",
         "20",
         "63"
        ],
        [
         "retired",
         "51",
         "73"
        ],
        [
         "salesman",
         "18",
         "66"
        ],
        [
         "scientist",
         "23",
         "55"
        ],
        [
         "student",
         "7",
         "42"
        ],
        [
         "technician",
         "21",
         "55"
        ],
        [
         "writer",
         "18",
         "60"
        ]
       ],
       "shape": {
        "columns": 2,
        "rows": 21
       }
      },
      "text/html": [
       "<div>\n",
       "<style scoped>\n",
       "    .dataframe tbody tr th:only-of-type {\n",
       "        vertical-align: middle;\n",
       "    }\n",
       "\n",
       "    .dataframe tbody tr th {\n",
       "        vertical-align: top;\n",
       "    }\n",
       "\n",
       "    .dataframe thead th {\n",
       "        text-align: right;\n",
       "    }\n",
       "</style>\n",
       "<table border=\"1\" class=\"dataframe\">\n",
       "  <thead>\n",
       "    <tr style=\"text-align: right;\">\n",
       "      <th></th>\n",
       "      <th>min</th>\n",
       "      <th>max</th>\n",
       "    </tr>\n",
       "    <tr>\n",
       "      <th>occupation</th>\n",
       "      <th></th>\n",
       "      <th></th>\n",
       "    </tr>\n",
       "  </thead>\n",
       "  <tbody>\n",
       "    <tr>\n",
       "      <th>administrator</th>\n",
       "      <td>21</td>\n",
       "      <td>70</td>\n",
       "    </tr>\n",
       "    <tr>\n",
       "      <th>artist</th>\n",
       "      <td>19</td>\n",
       "      <td>48</td>\n",
       "    </tr>\n",
       "    <tr>\n",
       "      <th>doctor</th>\n",
       "      <td>28</td>\n",
       "      <td>64</td>\n",
       "    </tr>\n",
       "    <tr>\n",
       "      <th>educator</th>\n",
       "      <td>23</td>\n",
       "      <td>63</td>\n",
       "    </tr>\n",
       "    <tr>\n",
       "      <th>engineer</th>\n",
       "      <td>22</td>\n",
       "      <td>70</td>\n",
       "    </tr>\n",
       "    <tr>\n",
       "      <th>entertainment</th>\n",
       "      <td>15</td>\n",
       "      <td>50</td>\n",
       "    </tr>\n",
       "    <tr>\n",
       "      <th>executive</th>\n",
       "      <td>22</td>\n",
       "      <td>69</td>\n",
       "    </tr>\n",
       "    <tr>\n",
       "      <th>healthcare</th>\n",
       "      <td>22</td>\n",
       "      <td>62</td>\n",
       "    </tr>\n",
       "    <tr>\n",
       "      <th>homemaker</th>\n",
       "      <td>20</td>\n",
       "      <td>50</td>\n",
       "    </tr>\n",
       "    <tr>\n",
       "      <th>lawyer</th>\n",
       "      <td>21</td>\n",
       "      <td>53</td>\n",
       "    </tr>\n",
       "    <tr>\n",
       "      <th>librarian</th>\n",
       "      <td>23</td>\n",
       "      <td>69</td>\n",
       "    </tr>\n",
       "    <tr>\n",
       "      <th>marketing</th>\n",
       "      <td>24</td>\n",
       "      <td>55</td>\n",
       "    </tr>\n",
       "    <tr>\n",
       "      <th>none</th>\n",
       "      <td>11</td>\n",
       "      <td>55</td>\n",
       "    </tr>\n",
       "    <tr>\n",
       "      <th>other</th>\n",
       "      <td>13</td>\n",
       "      <td>64</td>\n",
       "    </tr>\n",
       "    <tr>\n",
       "      <th>programmer</th>\n",
       "      <td>20</td>\n",
       "      <td>63</td>\n",
       "    </tr>\n",
       "    <tr>\n",
       "      <th>retired</th>\n",
       "      <td>51</td>\n",
       "      <td>73</td>\n",
       "    </tr>\n",
       "    <tr>\n",
       "      <th>salesman</th>\n",
       "      <td>18</td>\n",
       "      <td>66</td>\n",
       "    </tr>\n",
       "    <tr>\n",
       "      <th>scientist</th>\n",
       "      <td>23</td>\n",
       "      <td>55</td>\n",
       "    </tr>\n",
       "    <tr>\n",
       "      <th>student</th>\n",
       "      <td>7</td>\n",
       "      <td>42</td>\n",
       "    </tr>\n",
       "    <tr>\n",
       "      <th>technician</th>\n",
       "      <td>21</td>\n",
       "      <td>55</td>\n",
       "    </tr>\n",
       "    <tr>\n",
       "      <th>writer</th>\n",
       "      <td>18</td>\n",
       "      <td>60</td>\n",
       "    </tr>\n",
       "  </tbody>\n",
       "</table>\n",
       "</div>"
      ],
      "text/plain": [
       "               min  max\n",
       "occupation             \n",
       "administrator   21   70\n",
       "artist          19   48\n",
       "doctor          28   64\n",
       "educator        23   63\n",
       "engineer        22   70\n",
       "entertainment   15   50\n",
       "executive       22   69\n",
       "healthcare      22   62\n",
       "homemaker       20   50\n",
       "lawyer          21   53\n",
       "librarian       23   69\n",
       "marketing       24   55\n",
       "none            11   55\n",
       "other           13   64\n",
       "programmer      20   63\n",
       "retired         51   73\n",
       "salesman        18   66\n",
       "scientist       23   55\n",
       "student          7   42\n",
       "technician      21   55\n",
       "writer          18   60"
      ]
     },
     "execution_count": 9,
     "metadata": {},
     "output_type": "execute_result"
    }
   ],
   "source": [
    "users.groupby('occupation').age.agg(['min', 'max'])"
   ]
  },
  {
   "cell_type": "markdown",
   "metadata": {},
   "source": [
    "### Step 7. For each combination of occupation and gender, calculate the mean age"
   ]
  },
  {
   "cell_type": "code",
   "execution_count": 10,
   "metadata": {},
   "outputs": [
    {
     "data": {
      "text/plain": [
       "occupation     gender\n",
       "administrator  F         40.638889\n",
       "               M         37.162791\n",
       "artist         F         30.307692\n",
       "               M         32.333333\n",
       "doctor         M         43.571429\n",
       "educator       F         39.115385\n",
       "               M         43.101449\n",
       "engineer       F         29.500000\n",
       "               M         36.600000\n",
       "entertainment  F         31.000000\n",
       "               M         29.000000\n",
       "executive      F         44.000000\n",
       "               M         38.172414\n",
       "healthcare     F         39.818182\n",
       "               M         45.400000\n",
       "homemaker      F         34.166667\n",
       "               M         23.000000\n",
       "lawyer         F         39.500000\n",
       "               M         36.200000\n",
       "librarian      F         40.000000\n",
       "               M         40.000000\n",
       "marketing      F         37.200000\n",
       "               M         37.875000\n",
       "none           F         36.500000\n",
       "               M         18.600000\n",
       "other          F         35.472222\n",
       "               M         34.028986\n",
       "programmer     F         32.166667\n",
       "               M         33.216667\n",
       "retired        F         70.000000\n",
       "               M         62.538462\n",
       "salesman       F         27.000000\n",
       "               M         38.555556\n",
       "scientist      F         28.333333\n",
       "               M         36.321429\n",
       "student        F         20.750000\n",
       "               M         22.669118\n",
       "technician     F         38.000000\n",
       "               M         32.961538\n",
       "writer         F         37.631579\n",
       "               M         35.346154\n",
       "Name: age, dtype: float64"
      ]
     },
     "execution_count": 10,
     "metadata": {},
     "output_type": "execute_result"
    }
   ],
   "source": [
    "users.groupby(['occupation', 'gender']).age.mean()"
   ]
  },
  {
   "cell_type": "markdown",
   "metadata": {},
   "source": [
    "### Step 8.  For each occupation present the percentage of women and men"
   ]
  },
  {
   "cell_type": "code",
   "execution_count": 17,
   "metadata": {
    "vscode": {
     "languageId": "ruby"
    }
   },
   "outputs": [
    {
     "data": {
      "application/vnd.microsoft.datawrangler.viewer.v0+json": {
       "columns": [
        {
         "name": "occupation",
         "rawType": "object",
         "type": "string"
        },
        {
         "name": "F",
         "rawType": "float64",
         "type": "float"
        },
        {
         "name": "M",
         "rawType": "float64",
         "type": "float"
        }
       ],
       "conversionMethod": "pd.DataFrame",
       "ref": "b2b9968e-fe2e-4924-a2b4-cef89a133957",
       "rows": [
        [
         "administrator",
         "45.56962025316456",
         "54.43037974683544"
        ],
        [
         "artist",
         "46.42857142857143",
         "53.57142857142857"
        ],
        [
         "doctor",
         null,
         "100.0"
        ],
        [
         "educator",
         "27.368421052631582",
         "72.63157894736842"
        ],
        [
         "engineer",
         "2.9850746268656714",
         "97.01492537313433"
        ],
        [
         "entertainment",
         "11.11111111111111",
         "88.88888888888889"
        ],
        [
         "executive",
         "9.375",
         "90.625"
        ],
        [
         "healthcare",
         "68.75",
         "31.25"
        ],
        [
         "homemaker",
         "85.71428571428571",
         "14.285714285714285"
        ],
        [
         "lawyer",
         "16.666666666666664",
         "83.33333333333334"
        ],
        [
         "librarian",
         "56.86274509803921",
         "43.13725490196079"
        ],
        [
         "marketing",
         "38.46153846153847",
         "61.53846153846154"
        ],
        [
         "none",
         "44.44444444444444",
         "55.55555555555556"
        ],
        [
         "other",
         "34.285714285714285",
         "65.71428571428571"
        ],
        [
         "programmer",
         "9.090909090909092",
         "90.9090909090909"
        ],
        [
         "retired",
         "7.142857142857142",
         "92.85714285714286"
        ],
        [
         "salesman",
         "25.0",
         "75.0"
        ],
        [
         "scientist",
         "9.67741935483871",
         "90.32258064516128"
        ],
        [
         "student",
         "30.612244897959183",
         "69.38775510204081"
        ],
        [
         "technician",
         "3.7037037037037033",
         "96.29629629629629"
        ],
        [
         "writer",
         "42.22222222222222",
         "57.77777777777777"
        ]
       ],
       "shape": {
        "columns": 2,
        "rows": 21
       }
      },
      "text/html": [
       "<div>\n",
       "<style scoped>\n",
       "    .dataframe tbody tr th:only-of-type {\n",
       "        vertical-align: middle;\n",
       "    }\n",
       "\n",
       "    .dataframe tbody tr th {\n",
       "        vertical-align: top;\n",
       "    }\n",
       "\n",
       "    .dataframe thead th {\n",
       "        text-align: right;\n",
       "    }\n",
       "</style>\n",
       "<table border=\"1\" class=\"dataframe\">\n",
       "  <thead>\n",
       "    <tr style=\"text-align: right;\">\n",
       "      <th>gender</th>\n",
       "      <th>F</th>\n",
       "      <th>M</th>\n",
       "    </tr>\n",
       "    <tr>\n",
       "      <th>occupation</th>\n",
       "      <th></th>\n",
       "      <th></th>\n",
       "    </tr>\n",
       "  </thead>\n",
       "  <tbody>\n",
       "    <tr>\n",
       "      <th>administrator</th>\n",
       "      <td>45.569620</td>\n",
       "      <td>54.430380</td>\n",
       "    </tr>\n",
       "    <tr>\n",
       "      <th>artist</th>\n",
       "      <td>46.428571</td>\n",
       "      <td>53.571429</td>\n",
       "    </tr>\n",
       "    <tr>\n",
       "      <th>doctor</th>\n",
       "      <td>NaN</td>\n",
       "      <td>100.000000</td>\n",
       "    </tr>\n",
       "    <tr>\n",
       "      <th>educator</th>\n",
       "      <td>27.368421</td>\n",
       "      <td>72.631579</td>\n",
       "    </tr>\n",
       "    <tr>\n",
       "      <th>engineer</th>\n",
       "      <td>2.985075</td>\n",
       "      <td>97.014925</td>\n",
       "    </tr>\n",
       "    <tr>\n",
       "      <th>entertainment</th>\n",
       "      <td>11.111111</td>\n",
       "      <td>88.888889</td>\n",
       "    </tr>\n",
       "    <tr>\n",
       "      <th>executive</th>\n",
       "      <td>9.375000</td>\n",
       "      <td>90.625000</td>\n",
       "    </tr>\n",
       "    <tr>\n",
       "      <th>healthcare</th>\n",
       "      <td>68.750000</td>\n",
       "      <td>31.250000</td>\n",
       "    </tr>\n",
       "    <tr>\n",
       "      <th>homemaker</th>\n",
       "      <td>85.714286</td>\n",
       "      <td>14.285714</td>\n",
       "    </tr>\n",
       "    <tr>\n",
       "      <th>lawyer</th>\n",
       "      <td>16.666667</td>\n",
       "      <td>83.333333</td>\n",
       "    </tr>\n",
       "    <tr>\n",
       "      <th>librarian</th>\n",
       "      <td>56.862745</td>\n",
       "      <td>43.137255</td>\n",
       "    </tr>\n",
       "    <tr>\n",
       "      <th>marketing</th>\n",
       "      <td>38.461538</td>\n",
       "      <td>61.538462</td>\n",
       "    </tr>\n",
       "    <tr>\n",
       "      <th>none</th>\n",
       "      <td>44.444444</td>\n",
       "      <td>55.555556</td>\n",
       "    </tr>\n",
       "    <tr>\n",
       "      <th>other</th>\n",
       "      <td>34.285714</td>\n",
       "      <td>65.714286</td>\n",
       "    </tr>\n",
       "    <tr>\n",
       "      <th>programmer</th>\n",
       "      <td>9.090909</td>\n",
       "      <td>90.909091</td>\n",
       "    </tr>\n",
       "    <tr>\n",
       "      <th>retired</th>\n",
       "      <td>7.142857</td>\n",
       "      <td>92.857143</td>\n",
       "    </tr>\n",
       "    <tr>\n",
       "      <th>salesman</th>\n",
       "      <td>25.000000</td>\n",
       "      <td>75.000000</td>\n",
       "    </tr>\n",
       "    <tr>\n",
       "      <th>scientist</th>\n",
       "      <td>9.677419</td>\n",
       "      <td>90.322581</td>\n",
       "    </tr>\n",
       "    <tr>\n",
       "      <th>student</th>\n",
       "      <td>30.612245</td>\n",
       "      <td>69.387755</td>\n",
       "    </tr>\n",
       "    <tr>\n",
       "      <th>technician</th>\n",
       "      <td>3.703704</td>\n",
       "      <td>96.296296</td>\n",
       "    </tr>\n",
       "    <tr>\n",
       "      <th>writer</th>\n",
       "      <td>42.222222</td>\n",
       "      <td>57.777778</td>\n",
       "    </tr>\n",
       "  </tbody>\n",
       "</table>\n",
       "</div>"
      ],
      "text/plain": [
       "gender                 F           M\n",
       "occupation                          \n",
       "administrator  45.569620   54.430380\n",
       "artist         46.428571   53.571429\n",
       "doctor               NaN  100.000000\n",
       "educator       27.368421   72.631579\n",
       "engineer        2.985075   97.014925\n",
       "entertainment  11.111111   88.888889\n",
       "executive       9.375000   90.625000\n",
       "healthcare     68.750000   31.250000\n",
       "homemaker      85.714286   14.285714\n",
       "lawyer         16.666667   83.333333\n",
       "librarian      56.862745   43.137255\n",
       "marketing      38.461538   61.538462\n",
       "none           44.444444   55.555556\n",
       "other          34.285714   65.714286\n",
       "programmer      9.090909   90.909091\n",
       "retired         7.142857   92.857143\n",
       "salesman       25.000000   75.000000\n",
       "scientist       9.677419   90.322581\n",
       "student        30.612245   69.387755\n",
       "technician      3.703704   96.296296\n",
       "writer         42.222222   57.777778"
      ]
     },
     "execution_count": 17,
     "metadata": {},
     "output_type": "execute_result"
    }
   ],
   "source": [
    "occup_gender = users.groupby(['occupation', 'gender']).size().unstack().apply(lambda x: x / x.sum() * 100, axis=1)\n",
    "occup_gender"
   ]
  }
 ],
 "metadata": {
  "kernelspec": {
   "display_name": "Python 3",
   "language": "python",
   "name": "python3"
  },
  "language_info": {
   "codemirror_mode": {
    "name": "ipython",
    "version": 3
   },
   "file_extension": ".py",
   "mimetype": "text/x-python",
   "name": "python",
   "nbconvert_exporter": "python",
   "pygments_lexer": "ipython3",
   "version": "3.12.4"
  }
 },
 "nbformat": 4,
 "nbformat_minor": 0
}
